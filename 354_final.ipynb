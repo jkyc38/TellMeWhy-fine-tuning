{
 "cells": [
  {
   "cell_type": "markdown",
   "metadata": {},
   "source": [
    "Import dependencies and install dependencies\n"
   ]
  },
  {
   "cell_type": "code",
   "execution_count": 1,
   "metadata": {},
   "outputs": [
    {
     "name": "stdout",
     "output_type": "stream",
     "text": [
      "Defaulting to user installation because normal site-packages is not writeable\n",
      "Requirement already satisfied: datasets in c:\\users\\theja\\appdata\\roaming\\python\\python312\\site-packages (3.1.0)\n",
      "Requirement already satisfied: pandas in c:\\users\\theja\\appdata\\roaming\\python\\python312\\site-packages (2.2.3)\n",
      "Requirement already satisfied: openai in c:\\users\\theja\\appdata\\roaming\\python\\python312\\site-packages (1.55.3)\n",
      "Requirement already satisfied: rouge_score in c:\\users\\theja\\appdata\\roaming\\python\\python312\\site-packages (0.1.2)\n",
      "Requirement already satisfied: tqdm in c:\\users\\theja\\appdata\\roaming\\python\\python312\\site-packages (4.67.1)\n",
      "Requirement already satisfied: matplotlib in c:\\users\\theja\\appdata\\roaming\\python\\python312\\site-packages (3.9.2)\n",
      "Requirement already satisfied: numpy in c:\\users\\theja\\appdata\\roaming\\python\\python312\\site-packages (2.1.3)\n",
      "Requirement already satisfied: seaborn in c:\\users\\theja\\appdata\\roaming\\python\\python312\\site-packages (0.13.2)\n",
      "Requirement already satisfied: filelock in c:\\users\\theja\\appdata\\roaming\\python\\python312\\site-packages (from datasets) (3.16.1)\n",
      "Requirement already satisfied: pyarrow>=15.0.0 in c:\\users\\theja\\appdata\\roaming\\python\\python312\\site-packages (from datasets) (18.1.0)\n",
      "Requirement already satisfied: dill<0.3.9,>=0.3.0 in c:\\users\\theja\\appdata\\roaming\\python\\python312\\site-packages (from datasets) (0.3.8)\n",
      "Requirement already satisfied: requests>=2.32.2 in c:\\users\\theja\\appdata\\roaming\\python\\python312\\site-packages (from datasets) (2.32.3)\n",
      "Requirement already satisfied: xxhash in c:\\users\\theja\\appdata\\roaming\\python\\python312\\site-packages (from datasets) (3.5.0)\n",
      "Requirement already satisfied: multiprocess<0.70.17 in c:\\users\\theja\\appdata\\roaming\\python\\python312\\site-packages (from datasets) (0.70.16)\n",
      "Requirement already satisfied: fsspec<=2024.9.0,>=2023.1.0 in c:\\users\\theja\\appdata\\roaming\\python\\python312\\site-packages (from fsspec[http]<=2024.9.0,>=2023.1.0->datasets) (2024.9.0)\n",
      "Requirement already satisfied: aiohttp in c:\\users\\theja\\appdata\\roaming\\python\\python312\\site-packages (from datasets) (3.11.9)\n",
      "Requirement already satisfied: huggingface-hub>=0.23.0 in c:\\users\\theja\\appdata\\roaming\\python\\python312\\site-packages (from datasets) (0.26.3)\n",
      "Requirement already satisfied: packaging in c:\\users\\theja\\appdata\\roaming\\python\\python312\\site-packages (from datasets) (24.1)\n",
      "Requirement already satisfied: pyyaml>=5.1 in c:\\users\\theja\\appdata\\roaming\\python\\python312\\site-packages (from datasets) (6.0.2)\n",
      "Requirement already satisfied: python-dateutil>=2.8.2 in c:\\users\\theja\\appdata\\roaming\\python\\python312\\site-packages (from pandas) (2.9.0.post0)\n",
      "Requirement already satisfied: pytz>=2020.1 in c:\\users\\theja\\appdata\\roaming\\python\\python312\\site-packages (from pandas) (2024.2)\n",
      "Requirement already satisfied: tzdata>=2022.7 in c:\\users\\theja\\appdata\\roaming\\python\\python312\\site-packages (from pandas) (2024.2)\n",
      "Requirement already satisfied: anyio<5,>=3.5.0 in c:\\users\\theja\\appdata\\roaming\\python\\python312\\site-packages (from openai) (4.6.2.post1)\n",
      "Requirement already satisfied: distro<2,>=1.7.0 in c:\\users\\theja\\appdata\\roaming\\python\\python312\\site-packages (from openai) (1.9.0)\n",
      "Requirement already satisfied: httpx<1,>=0.23.0 in c:\\users\\theja\\appdata\\roaming\\python\\python312\\site-packages (from openai) (0.28.0)\n",
      "Requirement already satisfied: jiter<1,>=0.4.0 in c:\\users\\theja\\appdata\\roaming\\python\\python312\\site-packages (from openai) (0.8.0)\n",
      "Requirement already satisfied: pydantic<3,>=1.9.0 in c:\\users\\theja\\appdata\\roaming\\python\\python312\\site-packages (from openai) (2.10.2)\n",
      "Requirement already satisfied: sniffio in c:\\users\\theja\\appdata\\roaming\\python\\python312\\site-packages (from openai) (1.3.1)\n",
      "Requirement already satisfied: typing-extensions<5,>=4.11 in c:\\users\\theja\\appdata\\roaming\\python\\python312\\site-packages (from openai) (4.12.2)\n",
      "Requirement already satisfied: absl-py in c:\\users\\theja\\appdata\\roaming\\python\\python312\\site-packages (from rouge_score) (2.1.0)\n",
      "Requirement already satisfied: nltk in c:\\users\\theja\\appdata\\roaming\\python\\python312\\site-packages (from rouge_score) (3.9.1)\n",
      "Requirement already satisfied: six>=1.14.0 in c:\\users\\theja\\appdata\\roaming\\python\\python312\\site-packages (from rouge_score) (1.16.0)\n",
      "Requirement already satisfied: colorama in c:\\users\\theja\\appdata\\roaming\\python\\python312\\site-packages (from tqdm) (0.4.6)\n",
      "Requirement already satisfied: contourpy>=1.0.1 in c:\\users\\theja\\appdata\\roaming\\python\\python312\\site-packages (from matplotlib) (1.3.0)\n",
      "Requirement already satisfied: cycler>=0.10 in c:\\users\\theja\\appdata\\roaming\\python\\python312\\site-packages (from matplotlib) (0.12.1)\n",
      "Requirement already satisfied: fonttools>=4.22.0 in c:\\users\\theja\\appdata\\roaming\\python\\python312\\site-packages (from matplotlib) (4.54.1)\n",
      "Requirement already satisfied: kiwisolver>=1.3.1 in c:\\users\\theja\\appdata\\roaming\\python\\python312\\site-packages (from matplotlib) (1.4.7)\n",
      "Requirement already satisfied: pillow>=8 in c:\\users\\theja\\appdata\\roaming\\python\\python312\\site-packages (from matplotlib) (11.0.0)\n",
      "Requirement already satisfied: pyparsing>=2.3.1 in c:\\users\\theja\\appdata\\roaming\\python\\python312\\site-packages (from matplotlib) (3.2.0)\n",
      "Requirement already satisfied: idna>=2.8 in c:\\users\\theja\\appdata\\roaming\\python\\python312\\site-packages (from anyio<5,>=3.5.0->openai) (3.10)\n",
      "Requirement already satisfied: aiohappyeyeballs>=2.3.0 in c:\\users\\theja\\appdata\\roaming\\python\\python312\\site-packages (from aiohttp->datasets) (2.4.4)\n",
      "Requirement already satisfied: aiosignal>=1.1.2 in c:\\users\\theja\\appdata\\roaming\\python\\python312\\site-packages (from aiohttp->datasets) (1.3.1)\n",
      "Requirement already satisfied: attrs>=17.3.0 in c:\\users\\theja\\appdata\\roaming\\python\\python312\\site-packages (from aiohttp->datasets) (24.2.0)\n",
      "Requirement already satisfied: frozenlist>=1.1.1 in c:\\users\\theja\\appdata\\roaming\\python\\python312\\site-packages (from aiohttp->datasets) (1.5.0)\n",
      "Requirement already satisfied: multidict<7.0,>=4.5 in c:\\users\\theja\\appdata\\roaming\\python\\python312\\site-packages (from aiohttp->datasets) (6.1.0)\n",
      "Requirement already satisfied: propcache>=0.2.0 in c:\\users\\theja\\appdata\\roaming\\python\\python312\\site-packages (from aiohttp->datasets) (0.2.1)\n",
      "Requirement already satisfied: yarl<2.0,>=1.17.0 in c:\\users\\theja\\appdata\\roaming\\python\\python312\\site-packages (from aiohttp->datasets) (1.18.3)\n",
      "Requirement already satisfied: certifi in c:\\users\\theja\\appdata\\roaming\\python\\python312\\site-packages (from httpx<1,>=0.23.0->openai) (2024.8.30)\n",
      "Requirement already satisfied: httpcore==1.* in c:\\users\\theja\\appdata\\roaming\\python\\python312\\site-packages (from httpx<1,>=0.23.0->openai) (1.0.7)\n",
      "Requirement already satisfied: h11<0.15,>=0.13 in c:\\users\\theja\\appdata\\roaming\\python\\python312\\site-packages (from httpcore==1.*->httpx<1,>=0.23.0->openai) (0.14.0)\n",
      "Requirement already satisfied: annotated-types>=0.6.0 in c:\\users\\theja\\appdata\\roaming\\python\\python312\\site-packages (from pydantic<3,>=1.9.0->openai) (0.7.0)\n",
      "Requirement already satisfied: pydantic-core==2.27.1 in c:\\users\\theja\\appdata\\roaming\\python\\python312\\site-packages (from pydantic<3,>=1.9.0->openai) (2.27.1)\n",
      "Requirement already satisfied: charset-normalizer<4,>=2 in c:\\users\\theja\\appdata\\roaming\\python\\python312\\site-packages (from requests>=2.32.2->datasets) (3.4.0)\n",
      "Requirement already satisfied: urllib3<3,>=1.21.1 in c:\\users\\theja\\appdata\\roaming\\python\\python312\\site-packages (from requests>=2.32.2->datasets) (2.2.3)\n",
      "Requirement already satisfied: click in c:\\users\\theja\\appdata\\roaming\\python\\python312\\site-packages (from nltk->rouge_score) (8.1.7)\n",
      "Requirement already satisfied: joblib in c:\\users\\theja\\appdata\\roaming\\python\\python312\\site-packages (from nltk->rouge_score) (1.4.2)\n",
      "Requirement already satisfied: regex>=2021.8.3 in c:\\users\\theja\\appdata\\roaming\\python\\python312\\site-packages (from nltk->rouge_score) (2024.11.6)\n"
     ]
    },
    {
     "name": "stderr",
     "output_type": "stream",
     "text": [
      "\n",
      "[notice] A new release of pip is available: 24.2 -> 24.3.1\n",
      "[notice] To update, run: python.exe -m pip install --upgrade pip\n"
     ]
    }
   ],
   "source": [
    "!pip install datasets pandas openai rouge_score tqdm matplotlib numpy seaborn"
   ]
  },
  {
   "cell_type": "code",
   "execution_count": 2,
   "metadata": {},
   "outputs": [
    {
     "name": "stderr",
     "output_type": "stream",
     "text": [
      "C:\\Users\\theja\\AppData\\Roaming\\Python\\Python312\\site-packages\\tqdm\\auto.py:21: TqdmWarning: IProgress not found. Please update jupyter and ipywidgets. See https://ipywidgets.readthedocs.io/en/stable/user_install.html\n",
      "  from .autonotebook import tqdm as notebook_tqdm\n"
     ]
    },
    {
     "name": "stdout",
     "output_type": "stream",
     "text": [
      "DatasetDict({\n",
      "    train: Dataset({\n",
      "        features: ['narrative', 'question', 'original_sentence_for_question', 'narrative_lexical_overlap', 'is_ques_answerable', 'answer', 'is_ques_answerable_annotator', 'original_narrative_form', 'question_meta', 'helpful_sentences', 'human_eval', 'val_ann', 'gram_ann'],\n",
      "        num_rows: 71892\n",
      "    })\n",
      "    validation: Dataset({\n",
      "        features: ['narrative', 'question', 'original_sentence_for_question', 'narrative_lexical_overlap', 'is_ques_answerable', 'answer', 'is_ques_answerable_annotator', 'original_narrative_form', 'question_meta', 'helpful_sentences', 'human_eval', 'val_ann', 'gram_ann'],\n",
      "        num_rows: 8976\n",
      "    })\n",
      "    test: Dataset({\n",
      "        features: ['narrative', 'question', 'original_sentence_for_question', 'narrative_lexical_overlap', 'is_ques_answerable', 'answer', 'is_ques_answerable_annotator', 'original_narrative_form', 'question_meta', 'helpful_sentences', 'human_eval', 'val_ann', 'gram_ann'],\n",
      "        num_rows: 10689\n",
      "    })\n",
      "})\n"
     ]
    }
   ],
   "source": [
    "from datasets import load_dataset\n",
    "import pandas as pd\n",
    "ds = load_dataset(\"StonyBrookNLP/tellmewhy\")\n",
    "print(ds)"
   ]
  },
  {
   "cell_type": "code",
   "execution_count": 39,
   "metadata": {},
   "outputs": [
    {
     "name": "stdout",
     "output_type": "stream",
     "text": [
      "Columns in training set: ['narrative', 'question', 'original_sentence_for_question', 'narrative_lexical_overlap', 'is_ques_answerable', 'answer', 'is_ques_answerable_annotator', 'original_narrative_form', 'question_meta', 'helpful_sentences', 'human_eval', 'val_ann', 'gram_ann']\n",
      "\n",
      "Sample row:\n",
      "\n",
      "Narrative: Cam ordered a pizza and took it home. He opened the box to take out a slice. Cam discovered that the store did not cut the pizza for him. He looked for his pizza cutter but did not find it. He had to use his chef knife to cut a slice.\n",
      "\n",
      "Question: Why did Cam order a pizza?\n",
      "\n",
      "Answer: Cam was hungry.\n"
     ]
    }
   ],
   "source": [
    "# Convert each split to pandas DataFrame with all columns\n",
    "train_df = pd.DataFrame(ds['train'])\n",
    "valid_df = pd.DataFrame(ds['validation'])\n",
    "test_df = pd.DataFrame(ds['test'])\n",
    "\n",
    "# Let's see what we have\n",
    "print(\"Columns in training set:\", train_df.columns.tolist())\n",
    "print(\"\\nSample row:\")\n",
    "print(\"\\nNarrative:\", train_df['narrative'].iloc[0])\n",
    "print(\"\\nQuestion:\", train_df['question'].iloc[0])\n",
    "print(\"\\nAnswer:\", train_df['answer'].iloc[0])"
   ]
  },
  {
   "cell_type": "markdown",
   "metadata": {},
   "source": [
    "This cell prepares training data for regular fine tuning based on the data set given. OPenai requires file type to be jsonl"
   ]
  },
  {
   "cell_type": "code",
   "execution_count": null,
   "metadata": {},
   "outputs": [],
   "source": [
    "import json\n",
    "\n",
    "def prepare_training_data(df):\n",
    "    training_data = []\n",
    "    for _, row in df.iterrows():\n",
    "        # Format each conversation turn\n",
    "        conversation = {\n",
    "            \"messages\": [\n",
    "                {\"role\": \"system\", \"content\": \"You are a helpful assistant that explains why events happen in stories.\"},\n",
    "                {\"role\": \"user\", \"content\": f\"Story: {row['narrative']}\\nQuestion: {row['question']}\"},\n",
    "                {\"role\": \"assistant\", \"content\": f\"{row['answer']}\"}\n",
    "            ]\n",
    "        }\n",
    "        training_data.append(conversation)\n",
    "    return training_data\n",
    "\n",
    "# Convert training data and grabbing first 1000 samples (i dont want to go broke)\n",
    "training_data = prepare_training_data(train_df)[:1000]\n",
    "\n",
    "# Save as JSONL file\n",
    "with open('tellmewhy_training.jsonl1', 'w') as f:\n",
    "    for entry in training_data:\n",
    "        f.write(json.dumps(entry) + '\\n')"
   ]
  },
  {
   "cell_type": "code",
   "execution_count": null,
   "metadata": {},
   "outputs": [],
   "source": [
    "#test api key\n",
    "from openai import OpenAI\n",
    "import requests\n",
    "from apikeyfile import openai_apikey\n",
    "\n",
    "APIKEY = openai_apikey()\n",
    "client = OpenAI(api_key=APIKEY)\n",
    "\n"
   ]
  },
  {
   "cell_type": "markdown",
   "metadata": {},
   "source": [
    "The cell below creates a file ID to send to openai so it can fine tune based on the file with adjusted hyperparams"
   ]
  },
  {
   "cell_type": "code",
   "execution_count": null,
   "metadata": {},
   "outputs": [],
   "source": [
    "#fine tune model\n",
    "#FINISHED FINE TUNING\n",
    "PATH = \"./tellmewhy_training.jsonl1\"\n",
    "MODEL = \"gpt-3.5-turbo\"\n",
    "#upload training file\n",
    "def fine_tune_model(path, model):\n",
    "    file = client.files.create(\n",
    "        file=open(path, \"rb\"),\n",
    "        purpose=\"fine-tune\"\n",
    "    )\n",
    "    print(f\"File ID: {file.id}\")\n",
    "\n",
    "    job = client.fine_tuning.jobs.create(\n",
    "        training_file=file.id,\n",
    "        model=model,\n",
    "        hyperparameters={\n",
    "            \"n_epochs\": 2\n",
    "        }\n",
    "    )\n",
    "    return job"
   ]
  },
  {
   "cell_type": "markdown",
   "metadata": {},
   "source": [
    "The cell below is for evaluation of basic fine tuning with just the data set."
   ]
  },
  {
   "cell_type": "code",
   "execution_count": 53,
   "metadata": {},
   "outputs": [
    {
     "name": "stdout",
     "output_type": "stream",
     "text": [
      "\n",
      "Evaluating Base Model...\n"
     ]
    },
    {
     "name": "stderr",
     "output_type": "stream",
     "text": [
      "100%|██████████| 50/50 [00:45<00:00,  1.09it/s]\n"
     ]
    },
    {
     "name": "stdout",
     "output_type": "stream",
     "text": [
      "\n",
      "Evaluating Fine-tuned Model...\n"
     ]
    },
    {
     "name": "stderr",
     "output_type": "stream",
     "text": [
      "100%|██████████| 50/50 [01:50<00:00,  2.22s/it]"
     ]
    },
    {
     "name": "stdout",
     "output_type": "stream",
     "text": [
      "\n",
      "Model Comparison:\n",
      "                    rouge1    rouge2    rougeL\n",
      "Base Model        0.138465  0.048654  0.119029\n",
      "Fine-tuned Model  0.225448  0.076333  0.205592\n"
     ]
    },
    {
     "name": "stderr",
     "output_type": "stream",
     "text": [
      "\n"
     ]
    }
   ],
   "source": [
    "from openai import OpenAI\n",
    "from rouge_score import rouge_scorer\n",
    "import pandas as pd\n",
    "from tqdm import tqdm\n",
    "\n",
    "client = OpenAI(api_key=APIKEY)\n",
    "\n",
    "def evaluate_model(model_id, test_df, num_samples=50):\n",
    "    scorer = rouge_scorer.RougeScorer(['rouge1', 'rouge2', 'rougeL'])\n",
    "    results = []\n",
    "    \n",
    "    # Sample from test set\n",
    "    test_sample = test_df.sample(n=num_samples) if num_samples else test_df\n",
    "    \n",
    "    for _, row in tqdm(test_sample.iterrows(), total=len(test_sample)):\n",
    "        try:\n",
    "            # Get model prediction\n",
    "            response = client.chat.completions.create(\n",
    "                model=model_id,\n",
    "                messages=[\n",
    "                    {\"role\": \"system\", \"content\": \"You are a helpful assistant that explains why events happen in stories.\"},\n",
    "                    {\"role\": \"user\", \"content\": f\"Story: {row['narrative']}\\nQuestion: {row['question']}\"}\n",
    "                ]\n",
    "            )\n",
    "            predicted = response.choices[0].message.content\n",
    "            actual = row['answer']\n",
    "            \n",
    "            # Calculate ROUGE scores\n",
    "            scores = scorer.score(actual, predicted)\n",
    "            \n",
    "            results.append({\n",
    "                'story': row['narrative'],\n",
    "                'question': row['question'],\n",
    "                'actual': actual,\n",
    "                'predicted': predicted,\n",
    "                'rouge1': scores['rouge1'].fmeasure,\n",
    "                'rouge2': scores['rouge2'].fmeasure,\n",
    "                'rougeL': scores['rougeL'].fmeasure\n",
    "            })\n",
    "        except Exception as e:\n",
    "            print(f\"Error processing example: {e}\")\n",
    "            \n",
    "    return pd.DataFrame(results)\n",
    "\n",
    "# Just use the base model and your final fine-tuned model\n",
    "models = {\n",
    "    'Base Model': 'gpt-3.5-turbo',\n",
    "    'Fine-tuned Model': 'ft:gpt-3.5-turbo-0125:personal::AaJ540hL'  # Your final model ID\n",
    "}\n",
    "\n",
    "# Run evaluation\n",
    "results = {}\n",
    "for name, model_id in models.items():\n",
    "    print(f\"\\nEvaluating {name}...\")\n",
    "    eval_df = evaluate_model(model_id, test_df, num_samples=50)\n",
    "    \n",
    "    if not eval_df.empty:  # Check if we got results\n",
    "        # Calculate average metrics\n",
    "        avg_metrics = {\n",
    "            'rouge1': eval_df['rouge1'].mean(),\n",
    "            'rouge2': eval_df['rouge2'].mean(),\n",
    "            'rougeL': eval_df['rougeL'].mean()\n",
    "        }\n",
    "        results[name] = avg_metrics\n",
    "\n",
    "# Create comparison table\n",
    "if results:  # Only if we have results\n",
    "    comparison_df = pd.DataFrame(results).T\n",
    "    print(\"\\nModel Comparison:\")\n",
    "    print(comparison_df)"
   ]
  },
  {
   "cell_type": "code",
   "execution_count": null,
   "metadata": {},
   "outputs": [],
   "source": [
    "import json\n",
    "#preparing data set "
   ]
  },
  {
   "cell_type": "markdown",
   "metadata": {},
   "source": [
    "Cell block below visualizes the evaluation metrics"
   ]
  },
  {
   "cell_type": "code",
   "execution_count": null,
   "metadata": {},
   "outputs": [
    {
     "data": {
      "image/png": "[encoded data removed]",
      "text/plain": [
       "<Figure size 1000x600 with 1 Axes>"
      ]
     },
     "metadata": {},
     "output_type": "display_data"
    }
   ],
   "source": [
    "import matplotlib.pyplot as plt\n",
    "import numpy as np\n",
    "\n",
    "def plot_rouge_comparison():\n",
    "    # Your results from the evaluation\n",
    "    results = {\n",
    "        'Base Model': {\n",
    "            'rouge1': 0.138465,\n",
    "            'rouge2': 0.048654,\n",
    "            'rougeL': 0.119029\n",
    "        },\n",
    "        'Fine-tuned Model': {\n",
    "            'rouge1': 0.225448,\n",
    "            'rouge2': 0.076333,\n",
    "            'rougeL': 0.205592\n",
    "        }\n",
    "    }\n",
    "    \n",
    "    # Prepare data for plotting\n",
    "    metrics = ['rouge1', 'rouge2', 'rougeL']\n",
    "    \n",
    "    # Set up the plot\n",
    "    plt.figure(figsize=(10, 6))\n",
    "    x = np.arange(len(metrics))\n",
    "    width = 0.35\n",
    "    \n",
    "    # Create bars\n",
    "    plt.bar(x - width/2, [results['Base Model'][m] for m in metrics], width, label='Base Model')\n",
    "    plt.bar(x + width/2, [results['Fine-tuned Model'][m] for m in metrics], width, label='Fine-tuned Model')\n",
    "    \n",
    "    # Customize plot\n",
    "    plt.xlabel('ROUGE Metrics')\n",
    "    plt.ylabel('Score')\n",
    "    plt.title('Comparison of ROUGE Scores: Base vs Fine-tuned Model')\n",
    "    plt.xticks(x, metrics)\n",
    "    plt.legend()\n",
    "    \n",
    "    # Add value labels on bars\n",
    "    for i in x:\n",
    "        plt.text(i - width/2, results['Base Model'][metrics[i]], \n",
    "                f'{results[\"Base Model\"][metrics[i]]:.3f}', \n",
    "                ha='center', va='bottom')\n",
    "        plt.text(i + width/2, results['Fine-tuned Model'][metrics[i]], \n",
    "                f'{results[\"Fine-tuned Model\"][metrics[i]]:.3f}', \n",
    "                ha='center', va='bottom')\n",
    "    \n",
    "    plt.tight_layout()\n",
    "    plt.show()\n",
    "\n",
    "plot_rouge_comparison()"
   ]
  },
  {
   "cell_type": "markdown",
   "metadata": {},
   "source": [
    "Cell below prepares data to be fine tuned with chain of thought prompting implemented"
   ]
  },
  {
   "cell_type": "code",
   "execution_count": null,
   "metadata": {},
   "outputs": [],
   "source": [
    "\n",
    "def prepare_training_data_COT(df: pd.DataFrame, num: int):\n",
    "    \"\"\"\n",
    "    This prepares training data to be sent to the chatgpt openai api\\n\n",
    "    df is the dataframe\\n\n",
    "    num is the amount of rows you want to sample\n",
    "    \"\"\"\n",
    "    training_data = []\n",
    "    #basically grabs num//2 random samples of answerable and unanswerable questions then concats them\n",
    "    answerable = df[df['is_ques_answerable']=='Answerable'].sample(n=num//2)\n",
    "    not_answerable = df[df['is_ques_answerable']== 'Not Answerable'].sample(n=num//2)\n",
    "\n",
    "    df_subset = pd.concat([answerable, not_answerable])\n",
    "    #grabs index, and row so we ignore the index and only grab the row\n",
    "    for _, row in df_subset.iterrows():\n",
    "        system_content = \"\"\"\n",
    "        You are a helpful assistant trained to analyze stories and answer 'why' questions. Your goal is to explain the motivations behind events in the story by reasoning step-by-step about the context and actions described.\n",
    "        \"\"\"\n",
    "\n",
    "        user_content = f\"\"\" \n",
    "        Story: {row['narrative']}\\n\n",
    "        To answer the question, follow these steps:\n",
    "        1. Summarize the key events in the story relevant to the question.\n",
    "        2. Identify any actions, decisions, or events tied to the question.\n",
    "        3. Think about the characters' motivations, goals, or circumstances that might explain why these actions or events occurred.\n",
    "        4. Combine these insights to form a clear and logical explanation.\n",
    "        \\nQuestion: {row['question']}\n",
    "\"\"\"\n",
    "\n",
    "        conversation = {\n",
    "            \"messages\": [\n",
    "                {\"role\": \"system\", \"content\": system_content},\n",
    "                {\"role\": \"user\", \"content\": user_content},\n",
    "                {\"role\": \"assistant\", \"content\": f\"{row['answer']}\"}\n",
    "            ]\n",
    "        }\n",
    "        training_data.append(conversation)\n",
    "    \n",
    "    #create new file and writes to file\n",
    "    with open(\"tellmewhy_training_iti_2.jsonl\", \"w\") as f:\n",
    "        for entry in training_data:\n",
    "            f.write(json.dumps(entry)+ '\\n')\n",
    "        \n",
    "\n",
    "prepare_training_data_COT(train_df, 50)\n",
    "\n",
    "\n",
    "    "
   ]
  },
  {
   "cell_type": "markdown",
   "metadata": {},
   "source": [
    "Cell below initiates the fine tuning via api call"
   ]
  },
  {
   "cell_type": "code",
   "execution_count": 61,
   "metadata": {},
   "outputs": [
    {
     "name": "stdout",
     "output_type": "stream",
     "text": [
      "File ID: file-UGZFGr6ubJLXVd2ycaxYUx\n"
     ]
    }
   ],
   "source": [
    "PATH = \"./tellmewhy_training_iti_2.jsonl\"\n",
    "MODEL = \"gpt-3.5-turbo\"\n",
    "\n",
    "job = fine_tune_model(path=PATH, model=MODEL)"
   ]
  },
  {
   "cell_type": "markdown",
   "metadata": {},
   "source": [
    "Cell block below evaluates the models by taking stories and questions, sending them to different language models, and comparing the predicted answers to the reference answers. For evaluation, it calculates three different ROUGE metrics: ROUGE-1, which measures overlap of individual words; ROUGE-2, which measures overlap of word pairs (bigrams); and ROUGE-L, which measures longest common subsequences. The function returns two types of results as DataFrames. The first is a summary DataFrame showing the average ROUGE scores for each model side by side, making it easy to compare model performance. The second is a detailed DataFrame containing all individual predictions and their ROUGE scores for each story-question pair, providing access to detailed results for deeper analysis."
   ]
  },
  {
   "cell_type": "code",
   "execution_count": 69,
   "metadata": {},
   "outputs": [],
   "source": [
    "from typing import Dict\n",
    "\n",
    "def evaluate_models(client, test_df, models: Dict[str, str], num_samples: int = 50):\n",
    "    \"\"\"\n",
    "    Evaluate multiple models and return their metrics side by side\n",
    "    \n",
    "    Args:\n",
    "        client: OpenAI client instance\n",
    "        test_df: DataFrame with test data\n",
    "        models: Dictionary of model names and their IDs\n",
    "        num_samples: Number of samples to evaluate\n",
    "    \"\"\"\n",
    "    scorer = rouge_scorer.RougeScorer(['rouge1', 'rouge2', 'rougeL'])\n",
    "    all_results = []\n",
    "    \n",
    "    # Sample from test set\n",
    "    test_sample = test_df.sample(n=num_samples, random_state=42) if num_samples else test_df\n",
    "    \n",
    "    for _, row in tqdm(test_sample.iterrows(), total=len(test_sample)):\n",
    "        result_row = {\n",
    "            'story': row['narrative'],\n",
    "            'question': row['question'],\n",
    "            'actual': row['answer']\n",
    "        }\n",
    "        \n",
    "        # Get predictions from each model\n",
    "        for model_name, model_id in models.items():\n",
    "            try:\n",
    "                response = client.chat.completions.create(\n",
    "                    model=model_id,\n",
    "                    messages=[\n",
    "                        {\"role\": \"user\", \"content\": f\"Story: {row['narrative']}\\nQuestion: {row['question']}\"}\n",
    "                    ]\n",
    "                )\n",
    "                predicted = response.choices[0].message.content\n",
    "                \n",
    "                # Calculate ROUGE scores\n",
    "                scores = scorer.score(row['answer'], predicted)\n",
    "                \n",
    "                # Add model-specific results\n",
    "                result_row.update({\n",
    "                    f'{model_name}_prediction': predicted,\n",
    "                    f'{model_name}_rouge1': scores['rouge1'].fmeasure,\n",
    "                    f'{model_name}_rouge2': scores['rouge2'].fmeasure,\n",
    "                    f'{model_name}_rougeL': scores['rougeL'].fmeasure\n",
    "                })\n",
    "                \n",
    "            except Exception as e:\n",
    "                print(f\"Error with {model_name} on example: {e}\")\n",
    "                # Fill with NaN if there's an error\n",
    "                result_row.update({\n",
    "                    f'{model_name}_prediction': np.nan,\n",
    "                    f'{model_name}_rouge1': np.nan,\n",
    "                    f'{model_name}_rouge2': np.nan,\n",
    "                    f'{model_name}_rougeL': np.nan\n",
    "                })\n",
    "        \n",
    "        all_results.append(result_row)\n",
    "    \n",
    "    # Create detailed DataFrame\n",
    "    detailed_df = pd.DataFrame(all_results)\n",
    "    \n",
    "    # Create summary DataFrame with side-by-side metrics\n",
    "    metrics = ['rouge1', 'rouge2', 'rougeL']\n",
    "    summary_data = {}\n",
    "    \n",
    "    for model_name in models.keys():\n",
    "        model_metrics = {\n",
    "            f'{metric}': detailed_df[f'{model_name}_{metric}'].mean()\n",
    "            for metric in metrics\n",
    "        }\n",
    "        summary_data[model_name] = model_metrics\n",
    "    \n",
    "    summary_df = pd.DataFrame(summary_data).round(4)\n",
    "    \n",
    "    return summary_df, detailed_df"
   ]
  },
  {
   "cell_type": "code",
   "execution_count": null,
   "metadata": {},
   "outputs": [
    {
     "name": "stderr",
     "output_type": "stream",
     "text": [
      "  0%|          | 0/50 [00:00<?, ?it/s]"
     ]
    },
    {
     "name": "stderr",
     "output_type": "stream",
     "text": [
      "100%|██████████| 50/50 [01:24<00:00,  1.69s/it]"
     ]
    },
    {
     "name": "stdout",
     "output_type": "stream",
     "text": [
      "        Base Model  Fine-tuned Model\n",
      "rouge1      0.1871            0.2872\n",
      "rouge2      0.0756            0.0993\n",
      "rougeL      0.1615            0.2685\n"
     ]
    },
    {
     "name": "stderr",
     "output_type": "stream",
     "text": [
      "\n"
     ]
    }
   ],
   "source": [
    "# Define your models\n",
    "models = {\n",
    "    'Base Model': 'gpt-3.5-turbo',\n",
    "    'Fine-tuned Model': 'ft:gpt-3.5-turbo-0125:personal::AaXOCuBB'\n",
    "}\n",
    "\n",
    "# Run evaluation\n",
    "summary_df, detailed_df = evaluate_models(\n",
    "    client=client,\n",
    "    test_df=test_df,\n",
    "    models=models,\n",
    "    num_samples=50\n",
    ")\n",
    "\n",
    "# View results\n",
    "print(summary_df)\n"
   ]
  },
  {
   "cell_type": "markdown",
   "metadata": {},
   "source": [
    "Cell below helps visualize the evaluation metrics"
   ]
  },
  {
   "cell_type": "code",
   "execution_count": null,
   "metadata": {},
   "outputs": [],
   "source": [
    "import matplotlib.pyplot as plt\n",
    "import numpy as np\n",
    "\n",
    "def plot_rouge_comparison(df, figsize=(12, 6)):\n",
    "    \"\"\"\n",
    "    Plot ROUGE scores comparison between models.\n",
    "    \n",
    "    Args:\n",
    "        df: pandas DataFrame with models as columns and metrics as index\n",
    "        figsize: tuple of figure dimensions (width, height)\n",
    "    \"\"\"\n",
    "    # Create figure and axis\n",
    "    fig, ax = plt.subplots(figsize=figsize)\n",
    "    \n",
    "    # Get models and metrics from DataFrame\n",
    "    models = df.columns\n",
    "    metrics = df.index\n",
    "    \n",
    "    # Set width and positions\n",
    "    x = np.arange(len(metrics))\n",
    "    width = 0.35\n",
    "    \n",
    "    # Create bars\n",
    "    rects1 = ax.bar(x - width/2, df[models[0]], width, label=models[0], color='#2878B5')\n",
    "    rects2 = ax.bar(x + width/2, df[models[1]], width, label=models[1], color='#FF8C00')\n",
    "    \n",
    "    # Customize plot\n",
    "    ax.set_xlabel('ROUGE Metrics')\n",
    "    ax.set_ylabel('Score')\n",
    "    ax.set_title('Comparison of ROUGE Scores: Base vs Fine-tuned Model')\n",
    "    ax.set_xticks(x)\n",
    "    ax.set_xticklabels(metrics)\n",
    "    \n",
    "    # Set y-axis limits\n",
    "    ax.set_ylim(0, max(df.max()) * 1.2)\n",
    "    \n",
    "    # Add grid\n",
    "    ax.yaxis.grid(True, linestyle='--', alpha=0.7)\n",
    "    ax.set_axisbelow(True)\n",
    "    \n",
    "    # Add legend\n",
    "    ax.legend()\n",
    "    \n",
    "    # Add value labels on bars\n",
    "    def autolabel(rects):\n",
    "        for rect in rects:\n",
    "            height = rect.get_height()\n",
    "            ax.text(rect.get_x() + rect.get_width()/2, height,\n",
    "                   f'{height:.3f}',\n",
    "                   ha='center', va='bottom')\n",
    "    \n",
    "    autolabel(rects1)\n",
    "    autolabel(rects2)\n",
    "    \n",
    "    plt.tight_layout()\n",
    "    plt.show()\n",
    "    \n",
    "    return fig\n",
    "\n",
    "# Example usage:\n",
    "# plot_rouge_comparison(comparison_df)"
   ]
  },
  {
   "cell_type": "code",
   "execution_count": 80,
   "metadata": {},
   "outputs": [
    {
     "data": {
      "image/png": "[encoded data removed]",
      "text/plain": [
       "<Figure size 1200x600 with 1 Axes>"
      ]
     },
     "metadata": {},
     "output_type": "display_data"
    },
    {
     "name": "stdout",
     "output_type": "stream",
     "text": [
      "Figure(1200x600)\n"
     ]
    }
   ],
   "source": [
    "fig = plot_rouge_comparison(summary_df)\n",
    "print(fig)"
   ]
  }
 ],
 "metadata": {
  "kernelspec": {
   "display_name": "Python 3",
   "language": "python",
   "name": "python3"
  },
  "language_info": {
   "codemirror_mode": {
    "name": "ipython",
    "version": 3
   },
   "file_extension": ".py",
   "mimetype": "text/x-python",
   "name": "python",
   "nbconvert_exporter": "python",
   "pygments_lexer": "ipython3",
   "version": "3.12.6"
  }
 },
 "nbformat": 4,
 "nbformat_minor": 2
}
